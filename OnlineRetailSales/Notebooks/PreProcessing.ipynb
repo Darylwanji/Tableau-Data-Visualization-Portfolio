{
 "cells": [
  {
   "cell_type": "markdown",
   "metadata": {},
   "source": [
    "<h1 align=\"center\">Online Retail Data</h1>"
   ]
  },
  {
   "cell_type": "code",
   "execution_count": 29,
   "metadata": {},
   "outputs": [
    {
     "data": {
      "text/html": [
       "<div>\n",
       "<style scoped>\n",
       "    .dataframe tbody tr th:only-of-type {\n",
       "        vertical-align: middle;\n",
       "    }\n",
       "\n",
       "    .dataframe tbody tr th {\n",
       "        vertical-align: top;\n",
       "    }\n",
       "\n",
       "    .dataframe thead th {\n",
       "        text-align: right;\n",
       "    }\n",
       "</style>\n",
       "<table border=\"1\" class=\"dataframe\">\n",
       "  <thead>\n",
       "    <tr style=\"text-align: right;\">\n",
       "      <th></th>\n",
       "      <th>transaction_id</th>\n",
       "      <th>timestamp</th>\n",
       "      <th>customer_id</th>\n",
       "      <th>product_id</th>\n",
       "      <th>product_category</th>\n",
       "      <th>quantity</th>\n",
       "      <th>price</th>\n",
       "      <th>discount</th>\n",
       "      <th>payment_method</th>\n",
       "      <th>customer_age</th>\n",
       "      <th>customer_gender</th>\n",
       "      <th>customer_location</th>\n",
       "      <th>total_amount</th>\n",
       "    </tr>\n",
       "  </thead>\n",
       "  <tbody>\n",
       "    <tr>\n",
       "      <th>0</th>\n",
       "      <td>1</td>\n",
       "      <td>2023-01-01 00:00:00</td>\n",
       "      <td>1993</td>\n",
       "      <td>915</td>\n",
       "      <td>Home &amp; Kitchen</td>\n",
       "      <td>8</td>\n",
       "      <td>103.30</td>\n",
       "      <td>0.23</td>\n",
       "      <td>Gift Card</td>\n",
       "      <td>27</td>\n",
       "      <td>Female</td>\n",
       "      <td>North America</td>\n",
       "      <td>636.33</td>\n",
       "    </tr>\n",
       "    <tr>\n",
       "      <th>1</th>\n",
       "      <td>2</td>\n",
       "      <td>2023-01-01 00:01:00</td>\n",
       "      <td>3474</td>\n",
       "      <td>553</td>\n",
       "      <td>Clothing</td>\n",
       "      <td>9</td>\n",
       "      <td>180.28</td>\n",
       "      <td>0.31</td>\n",
       "      <td>Gift Card</td>\n",
       "      <td>53</td>\n",
       "      <td>Other</td>\n",
       "      <td>South America</td>\n",
       "      <td>1119.54</td>\n",
       "    </tr>\n",
       "    <tr>\n",
       "      <th>2</th>\n",
       "      <td>3</td>\n",
       "      <td>2023-01-01 00:02:00</td>\n",
       "      <td>4564</td>\n",
       "      <td>248</td>\n",
       "      <td>Beauty &amp; Personal Care</td>\n",
       "      <td>7</td>\n",
       "      <td>81.58</td>\n",
       "      <td>0.27</td>\n",
       "      <td>Debit Card</td>\n",
       "      <td>34</td>\n",
       "      <td>Other</td>\n",
       "      <td>North America</td>\n",
       "      <td>416.87</td>\n",
       "    </tr>\n",
       "    <tr>\n",
       "      <th>3</th>\n",
       "      <td>4</td>\n",
       "      <td>2023-01-01 00:03:00</td>\n",
       "      <td>1133</td>\n",
       "      <td>948</td>\n",
       "      <td>Clothing</td>\n",
       "      <td>3</td>\n",
       "      <td>235.20</td>\n",
       "      <td>0.00</td>\n",
       "      <td>Debit Card</td>\n",
       "      <td>50</td>\n",
       "      <td>Other</td>\n",
       "      <td>Australia</td>\n",
       "      <td>705.60</td>\n",
       "    </tr>\n",
       "    <tr>\n",
       "      <th>4</th>\n",
       "      <td>5</td>\n",
       "      <td>2023-01-01 00:04:00</td>\n",
       "      <td>3626</td>\n",
       "      <td>284</td>\n",
       "      <td>Books</td>\n",
       "      <td>9</td>\n",
       "      <td>453.00</td>\n",
       "      <td>0.34</td>\n",
       "      <td>Credit Card</td>\n",
       "      <td>23</td>\n",
       "      <td>Female</td>\n",
       "      <td>Australia</td>\n",
       "      <td>2690.82</td>\n",
       "    </tr>\n",
       "  </tbody>\n",
       "</table>\n",
       "</div>"
      ],
      "text/plain": [
       "   transaction_id            timestamp  customer_id  product_id  \\\n",
       "0               1  2023-01-01 00:00:00         1993         915   \n",
       "1               2  2023-01-01 00:01:00         3474         553   \n",
       "2               3  2023-01-01 00:02:00         4564         248   \n",
       "3               4  2023-01-01 00:03:00         1133         948   \n",
       "4               5  2023-01-01 00:04:00         3626         284   \n",
       "\n",
       "         product_category  quantity   price  discount payment_method  \\\n",
       "0          Home & Kitchen         8  103.30      0.23      Gift Card   \n",
       "1                Clothing         9  180.28      0.31      Gift Card   \n",
       "2  Beauty & Personal Care         7   81.58      0.27     Debit Card   \n",
       "3                Clothing         3  235.20      0.00     Debit Card   \n",
       "4                   Books         9  453.00      0.34    Credit Card   \n",
       "\n",
       "   customer_age customer_gender customer_location  total_amount  \n",
       "0            27          Female     North America        636.33  \n",
       "1            53           Other     South America       1119.54  \n",
       "2            34           Other     North America        416.87  \n",
       "3            50           Other         Australia        705.60  \n",
       "4            23          Female         Australia       2690.82  "
      ]
     },
     "execution_count": 29,
     "metadata": {},
     "output_type": "execute_result"
    }
   ],
   "source": [
    "import kagglehub\n",
    "import pandas as pd\n",
    "import numpy as np\n",
    "import os\n",
    "\n",
    "#Load the dataset\n",
    "retail_sales_df = pd.read_csv(\"../Dataset/online_retail_sales_dataset.csv\")\n",
    "retail_sales_df.head()"
   ]
  },
  {
   "cell_type": "code",
   "execution_count": 30,
   "metadata": {},
   "outputs": [
    {
     "name": "stdout",
     "output_type": "stream",
     "text": [
      "<class 'pandas.core.frame.DataFrame'>\n",
      "RangeIndex: 1000000 entries, 0 to 999999\n",
      "Data columns (total 13 columns):\n",
      " #   Column             Non-Null Count    Dtype  \n",
      "---  ------             --------------    -----  \n",
      " 0   transaction_id     1000000 non-null  int64  \n",
      " 1   timestamp          1000000 non-null  object \n",
      " 2   customer_id        1000000 non-null  int64  \n",
      " 3   product_id         1000000 non-null  int64  \n",
      " 4   product_category   1000000 non-null  object \n",
      " 5   quantity           1000000 non-null  int64  \n",
      " 6   price              1000000 non-null  float64\n",
      " 7   discount           1000000 non-null  float64\n",
      " 8   payment_method     1000000 non-null  object \n",
      " 9   customer_age       1000000 non-null  int64  \n",
      " 10  customer_gender    1000000 non-null  object \n",
      " 11  customer_location  1000000 non-null  object \n",
      " 12  total_amount       1000000 non-null  float64\n",
      "dtypes: float64(3), int64(5), object(5)\n",
      "memory usage: 99.2+ MB\n"
     ]
    }
   ],
   "source": [
    "retail_sales_df.info()"
   ]
  },
  {
   "cell_type": "markdown",
   "metadata": {},
   "source": [
    ">  - 100,000 Transactions      \n",
    ">  - 13 features       \n",
    ">  - Seemingly no null values      \n",
    ">  - timestamp Datatype needs to be changed\n"
   ]
  },
  {
   "cell_type": "code",
   "execution_count": 31,
   "metadata": {},
   "outputs": [
    {
     "data": {
      "text/html": [
       "<div>\n",
       "<style scoped>\n",
       "    .dataframe tbody tr th:only-of-type {\n",
       "        vertical-align: middle;\n",
       "    }\n",
       "\n",
       "    .dataframe tbody tr th {\n",
       "        vertical-align: top;\n",
       "    }\n",
       "\n",
       "    .dataframe thead th {\n",
       "        text-align: right;\n",
       "    }\n",
       "</style>\n",
       "<table border=\"1\" class=\"dataframe\">\n",
       "  <thead>\n",
       "    <tr style=\"text-align: right;\">\n",
       "      <th></th>\n",
       "      <th>transaction_id</th>\n",
       "      <th>customer_id</th>\n",
       "      <th>product_id</th>\n",
       "      <th>quantity</th>\n",
       "      <th>price</th>\n",
       "      <th>discount</th>\n",
       "      <th>customer_age</th>\n",
       "      <th>total_amount</th>\n",
       "    </tr>\n",
       "  </thead>\n",
       "  <tbody>\n",
       "    <tr>\n",
       "      <th>count</th>\n",
       "      <td>1000000.000000</td>\n",
       "      <td>1000000.000000</td>\n",
       "      <td>1000000.000000</td>\n",
       "      <td>1000000.000000</td>\n",
       "      <td>1000000.000000</td>\n",
       "      <td>1000000.000000</td>\n",
       "      <td>1000000.000000</td>\n",
       "      <td>1000000.000000</td>\n",
       "    </tr>\n",
       "    <tr>\n",
       "      <th>mean</th>\n",
       "      <td>500000.500000</td>\n",
       "      <td>2998.854163</td>\n",
       "      <td>549.804766</td>\n",
       "      <td>5.003086</td>\n",
       "      <td>252.445705</td>\n",
       "      <td>0.250204</td>\n",
       "      <td>43.508625</td>\n",
       "      <td>946.839858</td>\n",
       "    </tr>\n",
       "    <tr>\n",
       "      <th>std</th>\n",
       "      <td>288675.278932</td>\n",
       "      <td>1154.764311</td>\n",
       "      <td>259.848068</td>\n",
       "      <td>2.581004</td>\n",
       "      <td>142.868633</td>\n",
       "      <td>0.144384</td>\n",
       "      <td>15.007346</td>\n",
       "      <td>810.902205</td>\n",
       "    </tr>\n",
       "    <tr>\n",
       "      <th>min</th>\n",
       "      <td>1.000000</td>\n",
       "      <td>1000.000000</td>\n",
       "      <td>100.000000</td>\n",
       "      <td>1.000000</td>\n",
       "      <td>5.000000</td>\n",
       "      <td>0.000000</td>\n",
       "      <td>18.000000</td>\n",
       "      <td>2.560000</td>\n",
       "    </tr>\n",
       "    <tr>\n",
       "      <th>25%</th>\n",
       "      <td>250000.750000</td>\n",
       "      <td>1999.000000</td>\n",
       "      <td>325.000000</td>\n",
       "      <td>3.000000</td>\n",
       "      <td>128.690000</td>\n",
       "      <td>0.130000</td>\n",
       "      <td>31.000000</td>\n",
       "      <td>297.180000</td>\n",
       "    </tr>\n",
       "    <tr>\n",
       "      <th>50%</th>\n",
       "      <td>500000.500000</td>\n",
       "      <td>2999.000000</td>\n",
       "      <td>550.000000</td>\n",
       "      <td>5.000000</td>\n",
       "      <td>252.700000</td>\n",
       "      <td>0.250000</td>\n",
       "      <td>44.000000</td>\n",
       "      <td>715.710000</td>\n",
       "    </tr>\n",
       "    <tr>\n",
       "      <th>75%</th>\n",
       "      <td>750000.250000</td>\n",
       "      <td>3998.000000</td>\n",
       "      <td>775.000000</td>\n",
       "      <td>7.000000</td>\n",
       "      <td>375.990000</td>\n",
       "      <td>0.380000</td>\n",
       "      <td>57.000000</td>\n",
       "      <td>1397.750000</td>\n",
       "    </tr>\n",
       "    <tr>\n",
       "      <th>max</th>\n",
       "      <td>1000000.000000</td>\n",
       "      <td>4999.000000</td>\n",
       "      <td>999.000000</td>\n",
       "      <td>9.000000</td>\n",
       "      <td>500.000000</td>\n",
       "      <td>0.500000</td>\n",
       "      <td>69.000000</td>\n",
       "      <td>4496.130000</td>\n",
       "    </tr>\n",
       "  </tbody>\n",
       "</table>\n",
       "</div>"
      ],
      "text/plain": [
       "       transaction_id     customer_id      product_id        quantity  \\\n",
       "count  1000000.000000  1000000.000000  1000000.000000  1000000.000000   \n",
       "mean    500000.500000     2998.854163      549.804766        5.003086   \n",
       "std     288675.278932     1154.764311      259.848068        2.581004   \n",
       "min          1.000000     1000.000000      100.000000        1.000000   \n",
       "25%     250000.750000     1999.000000      325.000000        3.000000   \n",
       "50%     500000.500000     2999.000000      550.000000        5.000000   \n",
       "75%     750000.250000     3998.000000      775.000000        7.000000   \n",
       "max    1000000.000000     4999.000000      999.000000        9.000000   \n",
       "\n",
       "                price        discount    customer_age    total_amount  \n",
       "count  1000000.000000  1000000.000000  1000000.000000  1000000.000000  \n",
       "mean       252.445705        0.250204       43.508625      946.839858  \n",
       "std        142.868633        0.144384       15.007346      810.902205  \n",
       "min          5.000000        0.000000       18.000000        2.560000  \n",
       "25%        128.690000        0.130000       31.000000      297.180000  \n",
       "50%        252.700000        0.250000       44.000000      715.710000  \n",
       "75%        375.990000        0.380000       57.000000     1397.750000  \n",
       "max        500.000000        0.500000       69.000000     4496.130000  "
      ]
     },
     "execution_count": 31,
     "metadata": {},
     "output_type": "execute_result"
    }
   ],
   "source": [
    "retail_sales_df.describe()"
   ]
  },
  {
   "cell_type": "markdown",
   "metadata": {},
   "source": [
    "> Mean Quatities: 5 (On average 5 items per transactions)       \n",
    "> Mean Price : $ 252 (On Average $250 per transactions)"
   ]
  },
  {
   "cell_type": "code",
   "execution_count": 32,
   "metadata": {},
   "outputs": [
    {
     "data": {
      "text/plain": [
       "transaction_id       0\n",
       "timestamp            0\n",
       "customer_id          0\n",
       "product_id           0\n",
       "product_category     0\n",
       "quantity             0\n",
       "price                0\n",
       "discount             0\n",
       "payment_method       0\n",
       "customer_age         0\n",
       "customer_gender      0\n",
       "customer_location    0\n",
       "total_amount         0\n",
       "dtype: int64"
      ]
     },
     "execution_count": 32,
     "metadata": {},
     "output_type": "execute_result"
    }
   ],
   "source": [
    "retail_sales_df.isnull().sum()"
   ]
  },
  {
   "cell_type": "markdown",
   "metadata": {},
   "source": [
    "> No null values"
   ]
  },
  {
   "cell_type": "code",
   "execution_count": 33,
   "metadata": {},
   "outputs": [
    {
     "data": {
      "text/plain": [
       "0"
      ]
     },
     "execution_count": 33,
     "metadata": {},
     "output_type": "execute_result"
    }
   ],
   "source": [
    "#Check Duplicates\n",
    "retail_sales_df.duplicated().sum()"
   ]
  },
  {
   "cell_type": "markdown",
   "metadata": {},
   "source": [
    "> No duplicates. "
   ]
  },
  {
   "cell_type": "code",
   "execution_count": null,
   "metadata": {},
   "outputs": [],
   "source": []
  }
 ],
 "metadata": {
  "kernelspec": {
   "display_name": "base",
   "language": "python",
   "name": "python3"
  },
  "language_info": {
   "codemirror_mode": {
    "name": "ipython",
    "version": 3
   },
   "file_extension": ".py",
   "mimetype": "text/x-python",
   "name": "python",
   "nbconvert_exporter": "python",
   "pygments_lexer": "ipython3",
   "version": "3.10.14"
  }
 },
 "nbformat": 4,
 "nbformat_minor": 2
}
